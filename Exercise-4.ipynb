{
 "cells": [
  {
   "cell_type": "markdown",
   "id": "0a5b5902-2f3e-4107-80ce-89d34e46a621",
   "metadata": {},
   "source": [
    "# Exercise 4\n",
    "\n",
    "Exercise 4 includes five problems that you need to solve with programming, and by providing answers to questions. For each problem you need to modify the notebook by adding your own solutions. Remember to save and commit your changes locally, and push your changes to GitHub after each major change! Regular commits will help you to keep track of your changes (and revert them if needed). Pushing your work to GitHub will ensure that you don't lose any work in case your computer crashes (can happen!).\n",
    "\n",
    "### Time allocation\n",
    "\n",
    "**Completing this exercise takes approximately: 2-6 hours** (based on previous year statistics). However, the time it takes can vary significantly from student to student, so we recommended that you start immediately working on the exercise to avoid issues meeting with the deadline.  \n",
    "\n",
    "### Due date\n",
    "\n",
    "You should submit (push) your Exercise answers to your personal Github repository approx. **2.5 weeks after the release of the exercise (submit by Sunday 3th December at 23:59)**. \n",
    "      \n",
    "### Start your exercise in CSC Notebooks\n",
    "\n",
    "Before you can start programming, you need to launch the CSC Notebook instance and clone your **personal copy of the Exercise repository** (i.e. something like `exercise-4-htenkanen`) there using Git. If you need help with this, [read the documentation on the course site](https://spatial-analytics.readthedocs.io/en/latest/lessons/L1/git-basics.html).\n",
    "\n",
    "### Working with Jupyter Notebooks\n",
    "\n",
    "Jupyter Notebooks are documents that can be used and run inside the JupyterLab programming environment (e.g. at [notebooks.csc.fi](https://notebooks.csc.fi/)) containing the computer code and rich text elements (such as text, figures, tables and links). \n",
    "\n",
    "**A couple of hints**:\n",
    "\n",
    "- You can **execute a cell** by clicking a given cell that you want to run and pressing <kbd>Shift</kbd> + <kbd>Enter</kbd> (or by clicking the \"Play\" button on top)\n",
    "- You can **change the cell-type** between `Markdown` (for writing text) and `Code` (for writing/executing code) from the dropdown menu above. \n",
    "\n",
    "See [**further details and help from here**](https://pythongis.org/part1/chapter-01/nb/04-using-jupyterlab.html). \n",
    "\n",
    "### Hints\n",
    "\n",
    "If there are general questions arising from this exercise, we will add hints to the course website under [Exercise 4 description](https://spatial-analytics.readthedocs.io/en/latest/lessons/L4/exercise-4.html)."
   ]
  },
  {
   "cell_type": "markdown",
   "id": "f1579371-479f-491a-9c6d-dca103750755",
   "metadata": {},
   "source": [
    "## Introduction\n",
    "\n",
    "In this exercise, you will practice using some of the basic DEM analysis approaches using Python's [Xarray](http://xarray.pydata.org/en/stable/) and [Xarray-spatial](https://xarray-spatial.org/) libraries, in order to gain knowledge of topography of an area and use different raster layers to find a suitable place for your scenario. You’ll be using elevation, slope and aspect, so think of a scenario where all of these can be utilized. In these instructions, **placing a summer cottage will be used as an example with the following preferences**:\n",
    "\n",
    "- **the higher the better**\n",
    "- **some slope is good but not too steep**\n",
    "- **the ridge should be pointing southwards (who wouldn't like more sun on their patio..)**\n",
    "\n",
    "Feel free to use your own scenario if you wish, as long as you come up with one that utilizes the same layers or use the same as in these instructions.\n",
    "The goal in this exercise is to calculate **weighted overlay**. For each preference, you need to create a raster layer and combine them using weighted sum. You’ll need to:\n",
    "\n",
    "- run different functions to get the layers (e.g. slope and aspect)\n",
    "- reclassify the layers according to your preferences\n",
    "- sum all layers together (weighting), and\n",
    "- smooth the results to get a more general view on the suitability (optional).\n",
    "\n",
    "When doing an overlay analysis such as this, it is important to ensure the preference layers are scaled in a similar, for example from 1 to 5 (which is the scale used in the instuctions).\n",
    "\n",
    "\n",
    "## Data\n",
    "\n",
    "In the exercise, we use elevation data (`data/22S_DEM.tif`) from eastern Finland, which is in [GeoTIFF](https://en.wikipedia.org/wiki/GeoTIFF) format and provided for you in the `data` -directory. "
   ]
  },
  {
   "cell_type": "markdown",
   "id": "c985fe5a-13f3-4f3f-843b-0b20609920e4",
   "metadata": {},
   "source": [
    "## Helper functions\n",
    "\n",
    "These functions show some basic functionalities of `xarray` and `xarray-spatial` libraries. They are provided for you to make things easier and **for you to learn how things work** (by looking at how the commands in these functions have been written). In addition, read the documentation of [Xarray](http://xarray.pydata.org/en/stable/) and [Xarray-spatial](https://xarray-spatial.org/) libraries to learn more."
   ]
  },
  {
   "cell_type": "code",
   "execution_count": null,
   "id": "1fd1374e-dcc1-447d-ac98-0efe2eb01786",
   "metadata": {},
   "outputs": [],
   "source": [
    "def plot_layer(dataset, attribute, contours=False):\n",
    "    \"\"\"\n",
    "    Helper function to plot a simple map of given attribute in Xarray dataset (such as \"elevation\").\n",
    "    \n",
    "    Note: As you can see, plotting in xarray works in a similar manner as when plotting with Geopandas or Pandas.\n",
    "    If you want to adjust more the visual appearance of your map, you create your own function or run the commands \n",
    "    presented in this example. \n",
    "    \n",
    "    Parameters\n",
    "    ==========\n",
    "    \n",
    "    dataset : xarray.core.dataset.Dataset\n",
    "    \n",
    "        The input Xarray Dataset that should contain the data `attribute` which you want to visualize.\n",
    "        \n",
    "    attribute : str\n",
    "    \n",
    "        The name of the data attribute (layer) that you want to visualize.\n",
    "        \n",
    "    contours : bool\n",
    "    \n",
    "        If True, adds contours to the map. \n",
    "    \n",
    "    \"\"\"\n",
    "    import matplotlib.pyplot as plt\n",
    "    \n",
    "    \n",
    "    # Initialize an empty figure\n",
    "    fig, ax = plt.subplots(figsize=(12,12))\n",
    "    \n",
    "    # Plot the layer using the .plot() function\n",
    "    data[attribute].plot(ax=ax)\n",
    "\n",
    "    # Add contours if requested\n",
    "    if contours:\n",
    "        \n",
    "        # Add contours on top to make the map easier to understand\n",
    "        cs = data[attribute].plot.contour(ax=ax, colors=\"red\")\n",
    "\n",
    "        # Label contours\n",
    "        ax.clabel(cs, cs.levels, inline=True, fontsize=8);\n",
    "    \n",
    "    # Return the matplotlib axis object\n",
    "    return ax\n",
    "\n",
    "\n",
    "def plot_hillshade(dataset, elevation_col):\n",
    "    \"\"\"\n",
    "    A helper function which:\n",
    "    1) calculates a hillshade based on elevation and stores it as \"hillshade\" attribute,\n",
    "    2) visualizes the hillshade creating a 3D like appearance, and \n",
    "    3) colors the hillshade based on the elevation values.\n",
    "    \n",
    "    HINT: Take a look how the xarray-spatial library was used to calculate the hillshade. In a similar manner,\n",
    "    you can calculate also slope and aspect by using the dedicated functions for them available in the \n",
    "    xarray-spatial library, read docs here: https://xarray-spatial.org/user_guide/surface.html\n",
    "    \n",
    "    Parameters\n",
    "    ==========\n",
    "    \n",
    "    dataset : xarray.core.dataset.Dataset\n",
    "    \n",
    "        The input Xarray Dataset that should contain the `elevation` data attribute which is used for calculating/visualizing the hillshade.\n",
    "        \n",
    "    elevation_col : str\n",
    "    \n",
    "        The name of the data attribute that contains the elevation values. \n",
    "     \n",
    "    \"\"\"\n",
    "    \n",
    "    # Xarray-spatial library\n",
    "    import xrspatial as xs\n",
    "    \n",
    "    # Functions from datashader library to stack (merge) multiple images together \n",
    "    # and plot them with `shade` command\n",
    "    from datashader.transfer_functions import shade, stack\n",
    "    \n",
    "    # A predefined colormap which is good for visualizing Elevation\n",
    "    from datashader.colors import Elevation\n",
    "    \n",
    "    # Calculate hillshade and store it as attribute \"hillshade\"\n",
    "    data[\"hillshade\"] = xs.hillshade(data[elevation_col])\n",
    "\n",
    "    # Stack multiple layers on top of each other and blend them nicely\n",
    "    return stack(\n",
    "        shade(data[\"hillshade\"], cmap=['gray', 'white'], alpha=255, how='linear'),\n",
    "        shade(data[elevation_col],     cmap=Elevation,         alpha=128, how='linear'),\n",
    "    )\n",
    "    \n",
    "    "
   ]
  },
  {
   "cell_type": "markdown",
   "id": "b9db10c4-b9a5-4205-8e03-43cb7e2f1ec1",
   "metadata": {},
   "source": [
    "## Problem 1 - Data exploration (3 points) \n",
    "\n",
    "### About the libraries used\n",
    "\n",
    "In this exercise, we are using xarray and xarray-spatial libraries a lot. They are libraries that make working with multidimentional data easy (such as raster data). **They work in a quite similar manner as pandas/geopandas**, but they represent/store data as **matrises** (multidimentional arrays) instead of columns (Series) in a GeoDataFrame. But the intuitition and the \"feel\" of using xarray Datasets is quite similar as when working with GeoDataFrames. Hence, using the Xarray Datasets should be quite straightforward if you have some experience in working with pandas/geopandas."
   ]
  },
  {
   "cell_type": "markdown",
   "id": "523e6237-3bdf-42d3-b758-cea18a98a5bc",
   "metadata": {},
   "source": [
    "### Task 1.1 - Read the data, explore the `xarray.Dataset` object \n",
    "\n",
    "- Read the data into `data` variable using the `.open_rasterio()` -function ([read docs](https://corteva.github.io/rioxarray/stable/rioxarray.html#rioxarray-open-rasterio)) of the rioxarray library as shown below. The command below (provided for you) actually does a few things:\n",
    "  - It first reads the data from the given filepath (`fp`)\n",
    "  - It then removes one unnecessary dimension of the data (called `band`) using the [`squeeze()` -function](http://xarray.pydata.org/en/stable/generated/xarray.DataArray.squeeze.html). The `band` is not needed here: it would be useful if the input data would e.g. be a satellite color image with three bands, one for each color channel (Red, Green, Blue), but here we only have one layer that represents the elevation values.\n",
    "  - Finally the command converts the [DataArray](http://xarray.pydata.org/en/stable/generated/xarray.DataArray.html) into a xarray [Dataset](http://xarray.pydata.org/en/stable/generated/xarray.Dataset.html) which is a bit similar object as GeoDataFrame of the geopandas library.\n",
    "  \n",
    "- Explore the `data` using programming and find out (add your answer to \"Answers\" section below):\n",
    "  - What is the **maximum** `\"elevation\"` value in the data?\n",
    "  - What is the **minimum** elevation value in the data?\n",
    "  - What is the **mean** elevation in the data?\n",
    "  - Hint: You can find these in a similar manner as in pandas/geopandas. **Notice** that by default, the xarray always returns values as an array (even if the result is a scalar value, such as number 1)"
   ]
  },
  {
   "cell_type": "code",
   "execution_count": null,
   "id": "c305dbc2-d9fd-433b-938f-6f85c2ccf8c9",
   "metadata": {
    "deletable": false,
    "nbgrader": {
     "cell_type": "code",
     "checksum": "50c89152a101d4a6ce0df69f44a0f527",
     "grade": true,
     "grade_id": "cell-10e953e6ca569c06",
     "locked": false,
     "points": 1,
     "schema_version": 3,
     "solution": true,
     "task": false
    }
   },
   "outputs": [],
   "source": [
    "import xarray as xr\n",
    "import xrspatial as xs\n",
    "import rioxarray \n",
    "\n",
    "\n",
    "# Read the DEM and convert to Xarray DataSet \n",
    "# which is a similar thing as pandas DataFrame but works with raster/matrices\n",
    "fp = \"data/22S_DEM.tif\"\n",
    "\n",
    "# The elevation values will be read into a variable \"elevation\"\n",
    "data = rioxarray.open_rasterio(fp).squeeze(\"band\", drop=True).to_dataset(name=\"elevation\")\n",
    "\n",
    "# REPLACE THE ERROR BELOW WITH YOUR OWN CODE\n",
    "raise NotImplementedError()"
   ]
  },
  {
   "cell_type": "markdown",
   "id": "f8208615-84fb-41c2-8b7e-15447cb81273",
   "metadata": {},
   "source": [
    "### Questions\n",
    "\n",
    "*Correct answers gives you 1 point allocated to problem 1.1*.\n",
    "\n",
    "- **Question 1.1**: What is the **maximum** `\"elevation\"` value in the data?\n",
    "- **Question 1.2**: What is the **minimum** elevation value in the data?\n",
    "- **Question 1.3**: What is the **mean** elevation in the data?"
   ]
  },
  {
   "cell_type": "markdown",
   "id": "a0ce0488-6b83-4241-8458-462aa23193dc",
   "metadata": {},
   "source": [
    "### Answers\n",
    "\n",
    "Answer to the questions by adding text after the `Answer` bullet points below:"
   ]
  },
  {
   "cell_type": "markdown",
   "id": "bf7d2a17-e404-4ebd-92cc-6a2aa00a66a5",
   "metadata": {},
   "source": [
    "(hint: double-click this cell to activate editing)\n",
    "\n",
    "- **Answer for Q1.1**:\n",
    "- **Answer for Q1.2**:\n",
    "- **Answer for Q1.3**:"
   ]
  },
  {
   "cell_type": "markdown",
   "id": "6ef5cf53-ec58-49cf-83aa-536592fe8d3b",
   "metadata": {},
   "source": [
    "### Task 1.2 - Visualize the data\n",
    "\n",
    "1. **Visualize the `elevation`** by using the `plot_layer()` function provided for you in the [Helper functions](#Helper-functions) above.\n",
    "2. **Visualize the same data by applying a `hillshade`** into the data which creates an illusion of 3D map. You can do this by taking advantage of the `plot_hillshade()` -function provided for you in the [Helper functions](#Helper-functions). \n",
    "\n",
    "As a result of these steps, you should get maps like below: \n",
    "\n",
    "![Elevation](img/elevation.png)\n",
    "\n",
    "*Example map showing the elevation in the study area*.\n",
    "\n",
    "![Hillshade](img/hillshade.png)\n",
    "\n",
    "*Example map visualized using hillshade that creates an illusion of 3D*."
   ]
  },
  {
   "cell_type": "code",
   "execution_count": null,
   "id": "1a0a1cc5-4611-4620-b94b-78b69b0ebc7f",
   "metadata": {
    "deletable": false,
    "nbgrader": {
     "cell_type": "code",
     "checksum": "3db71907854a0a02871a863a29b76993",
     "grade": true,
     "grade_id": "cell-9bcf71f4d278edd0",
     "locked": false,
     "points": 2,
     "schema_version": 3,
     "solution": true,
     "task": false
    }
   },
   "outputs": [],
   "source": [
    "# REPLACE THE ERROR BELOW WITH YOUR OWN CODE\n",
    "raise NotImplementedError()"
   ]
  },
  {
   "cell_type": "markdown",
   "id": "36d062b2-5593-4a2f-b9b9-bee6027d4cc8",
   "metadata": {},
   "source": [
    "### Questions\n",
    "\n",
    "*Answering these questions gives you 0.5 points allocated to problem 1.2*.\n",
    "\n",
    "- **Question 1.4**: Which of the maps do you think is more informative? Describe/justify your thoughts.\n",
    "- **Question 1.5**: Which of the maps do you think is more visually pleasing? Describe/justify your thoughts."
   ]
  },
  {
   "cell_type": "markdown",
   "id": "24410767-c26b-41fa-a9ef-2580f40f00f6",
   "metadata": {},
   "source": [
    "### Answers\n",
    "\n",
    "Answer to the questions by adding text after the `Answer` bullet points below:"
   ]
  },
  {
   "cell_type": "markdown",
   "id": "11235092-fb52-4512-83f9-f02fcfb21ed1",
   "metadata": {},
   "source": [
    "(hint: double-click this cell to activate editing)\n",
    "\n",
    "- **Answer for Q1.4**:\n",
    "- **Answer for Q1.5**:"
   ]
  },
  {
   "cell_type": "markdown",
   "id": "95312109-b3a5-46e7-8f8e-732d5d797e2f",
   "metadata": {},
   "source": [
    "## Problem 2 - Calculate Slope and Aspect + visualize (6 points)\n",
    "\n",
    "### Task 2.1 - Slope\n",
    "\n",
    "- **Calculate the slope** using the [`.slope()` -function](https://xarray-spatial.org/user_guide/surface.html#Slope) available in xarray-spatial library and store the result in attribute `\"slope\"`\n",
    "  - Hint: Take example from the `plot_hillshade()` function in the [Helper functions](#Helper-functions), which shows how the `hillshade` variable is calculated.\n",
    "\n",
    "- **Plot the result** (i.e. `slope`) using the `.plot()` -function. Use colormap `\"Greens\"`. As a result you should get something like below (the title `Slope (degrees)` is optional):\n",
    "\n",
    "![Slope](img/slope.png)\n",
    "\n",
    "*Example map showing the slope.*"
   ]
  },
  {
   "cell_type": "code",
   "execution_count": null,
   "id": "baf2b76e-5516-4afb-b3b7-0c253d1b6f02",
   "metadata": {
    "deletable": false,
    "nbgrader": {
     "cell_type": "code",
     "checksum": "3351ae44dbfc61ebede533f184a9c260",
     "grade": true,
     "grade_id": "cell-37f9e17c88e16ad8",
     "locked": false,
     "points": 3,
     "schema_version": 3,
     "solution": true,
     "task": false
    }
   },
   "outputs": [],
   "source": [
    "# REPLACE THE ERROR BELOW WITH YOUR OWN CODE\n",
    "raise NotImplementedError()"
   ]
  },
  {
   "cell_type": "markdown",
   "id": "a04d5ddb-1069-4ec8-a7f9-bfcf5deb4100",
   "metadata": {},
   "source": [
    "### Questions\n",
    "\n",
    "*Answering these questions gives you 0.5 points allocated to problem 2.1*.\n",
    "\n",
    "- **Question 2.1**: Based on the slope map, are there any steep slopes visible in the terrain? Justify your answer. \n"
   ]
  },
  {
   "cell_type": "markdown",
   "id": "7a74b1a6-6d36-4351-8fb6-748930167060",
   "metadata": {},
   "source": [
    "### Answers\n",
    "\n",
    "Answer to the questions by adding text after the `Answer` bullet points below:"
   ]
  },
  {
   "cell_type": "markdown",
   "id": "13479905-f45e-4a32-97c7-1af89f62e839",
   "metadata": {},
   "source": [
    "(hint: double-click this cell to activate editing)\n",
    "\n",
    "- **Answer for Q2.1**:"
   ]
  },
  {
   "cell_type": "markdown",
   "id": "46a88eec-e5ef-4d3c-9a82-daf3d2dee3a7",
   "metadata": {},
   "source": [
    "### Task 2.2 - Aspect\n",
    "\n",
    "- **Calculate the aspect** using the [`.aspect()` -function](https://xarray-spatial.org/user_guide/surface.html#Slope) available in xarray-spatial library and store the result in attribute `\"aspect\"`\n",
    "  - Hint: Take example from the `plot_hillshade()` function in the [Helper functions](#Helper-functions), which shows how the `hillshade` variable is calculated.\n",
    "- **Filter out -1 values** which represent cells that are flat (hence they do not have aspect):\n",
    "  - Update the `\"aspect\"` attribute using `.where()` function that allows [masking the data](https://xarray.pydata.org/en/v0.9.5/indexing.html#masking-with-where) based on user-defined criteria. \n",
    "  - Hence, you should do something like: `data[\"aspect\"] = data[\"aspect\"].where(ADD-YOUR-CRITERIA-HERE)`\n",
    "\n",
    "- **Question 2.2**: What is the average aspect in the data? Explore the data and find out the answer using programming. (Add your answer to \"Answers\" section below).\n",
    "\n",
    "- **Plot the result** (i.e. `slope`) using the `.plot()` -function. Use colormap `\"jet\"`. As a result you should get something like below (the title `Aspect ...` is optional):\n",
    "\n",
    "![Aspect](img/aspect.png)\n",
    "\n",
    "*Example map showing the aspect.*\n"
   ]
  },
  {
   "cell_type": "code",
   "execution_count": null,
   "id": "63fdfdb2-451c-4b5b-99b5-f8c7eeec021f",
   "metadata": {
    "deletable": false,
    "nbgrader": {
     "cell_type": "code",
     "checksum": "a047af981a88f3f24956dfb8f2f3e823",
     "grade": true,
     "grade_id": "cell-636e91694c88386b",
     "locked": false,
     "points": 3,
     "schema_version": 3,
     "solution": true,
     "task": false
    }
   },
   "outputs": [],
   "source": [
    "# REPLACE THE ERROR BELOW WITH YOUR OWN CODE\n",
    "raise NotImplementedError()\n"
   ]
  },
  {
   "cell_type": "markdown",
   "id": "4a2cb816-66ef-4eac-9a4f-b2f8591b8f63",
   "metadata": {},
   "source": [
    "### Questions\n",
    "\n",
    "*Answering these questions gives you 0.5 points allocated to problem 2.2*.\n",
    "\n",
    "- **Question 2.2**: What is the average aspect in the data?"
   ]
  },
  {
   "cell_type": "markdown",
   "id": "ebd5473a-5117-442b-bbf0-03086f0fa4b4",
   "metadata": {},
   "source": [
    "### Answers\n",
    "\n",
    "Answer to the questions by adding text after the `Answer` bullet points below:"
   ]
  },
  {
   "cell_type": "markdown",
   "id": "743dfad5-0a04-45c6-b7ec-39baab8184ec",
   "metadata": {},
   "source": [
    "(hint: double-click this cell to activate editing)\n",
    "\n",
    "- **Answer for Q2.2**:"
   ]
  },
  {
   "cell_type": "markdown",
   "id": "3ec2d79d-f7fa-4574-adf9-d1231a2b6365",
   "metadata": {},
   "source": [
    "## Problem 3 - Reclassify and weight the values (6 points)\n",
    "\n",
    "### Reclassification\n",
    "\n",
    "In order to combine data from several layers for analysis, you should scale the values in the different layers to a common scale. We do this by using reclassification. Hence, let’s reclassify our three layers (DEM, aspect and slope) one at a time. You should use scale from **1 (worst) to 5 (best)** in each layer.\n",
    "\n",
    "### Step 3.1 - Classify elevation based on Natural Breaks\n",
    "\n",
    "- Classify the **elevation** values by using a classifier called `.natural_breaks()` ([read docs](https://xarray-spatial.org/user_guide/classification.html#Natural-Breaks-(Jenks)-Reclassify)) that is available in the `xarray spatial` -library: \n",
    "  - The **number of classes should be 5**, which can be specified with parameter `k`. \n",
    "  - When classifying, let's use a 20 % sample of the cells to define the class breaks. This sampling is used, because it makes the classification process faster. The sample size is provided for you in the variable `n` below. **Pass the sample size by using parameter `num_sample`** to the `.natural_breaks()` function\n",
    "  - **Store the values in attribute `\"elevation_points\"`.**\n",
    "- By default the `.natural_breaks()` classifier classifies the values into number between 0 to 4. Number 0 is problematic for us, because 0 does not have any weight in the overlay analysis. Hence, **modify the `\"elevation_points\"` attribute by adding a number 1 to the result** (i.e. 0 becomes 1, 1 becomes 2, etc.).\n",
    "- **Plot the result** (i.e. `elevation_points`) using the `.plot()` -function. As a result you should get something like below (*notice the additional scalebar on the right side showing the elevation in meters is not required. It is just here provided for you as a reference*):\n",
    "\n",
    "![Elevation points](img/elevation_points.png)\n",
    "\n",
    "*Example map showing the elevation points (with additional scalebar which is not required from you).*\n"
   ]
  },
  {
   "cell_type": "code",
   "execution_count": null,
   "id": "9b842a61-dcd5-4a63-b434-e82976c7ba38",
   "metadata": {
    "deletable": false,
    "nbgrader": {
     "cell_type": "code",
     "checksum": "58b824cf4074ba1b7ba863267f83404a",
     "grade": true,
     "grade_id": "cell-ee95182cea8c0bfe",
     "locked": false,
     "points": 2,
     "schema_version": 3,
     "solution": true,
     "task": false
    }
   },
   "outputs": [],
   "source": [
    "# Take 20 % sample to reduce the time it takes to classify\n",
    "percentage = 0.2\n",
    "\n",
    "# The sample size\n",
    "n = int(round(int(data[\"elevation\"].count()) * percentage, 0))\n",
    "\n",
    "# REPLACE THE ERROR BELOW WITH YOUR OWN CODE\n",
    "raise NotImplementedError()\n"
   ]
  },
  {
   "cell_type": "markdown",
   "id": "86df380e-4643-4590-8307-fcdf3c310a5b",
   "metadata": {},
   "source": [
    "### Step 3.2 - Classify the slope using Natural Breaks + modify the values with own criteria\n",
    "\n",
    "In this step, we first classify the slope values into five classes using natural breaks classifier and store them in `slope_nb` attribute. Then we will shuffle those `slope_nb` values based on criteria which will give highest points to the class number 2 (details below).\n",
    "\n",
    "1. **Classify the slope** values by using a classifier called `.natural_breaks()` ([read docs](https://xarray-spatial.org/user_guide/classification.html#Natural-Breaks-(Jenks)-Reclassify)) that is available in the `xarray spatial` -library: \n",
    "    - The **number of classes should be 5**, which can be specified with parameter `k`. \n",
    "    - When classifying, use again 20 % sample of the cells for defining the class breaks (as in step 3.1). You should again use the variable `n` as previously. **Pass the sample size by using parameter `num_sample`** to the `.natural_breaks()` function\n",
    "    - **Store the values in attribute `\"slope_nb\"`.**\n",
    "2. **Reclassify the `slope_nb` values** from the previous step by using a classifier called `.reclassify()` ([read docs](https://xarray-spatial.org/reference/_autosummary/xrspatial.classify.reclassify.html#xrspatial-classify-reclassify)). \n",
    "   - You can use the `bins` and `values` variables with the function that are provided for you below. The comment in the code cell below explains how the points are assigned to different classes.\n",
    "   - **Store the values in attribute `\"slope_points\"`.**\n",
    "\n",
    "3. **Plot the result** (i.e. `slope_points`) using the `.plot()` -function. You can use the colormap `\"Greens\"`. As a result you should get something like below:\n",
    "\n",
    "![Slope points](img/slope_points.png)\n",
    "\n",
    "*Example map showing the slope points.*\n"
   ]
  },
  {
   "cell_type": "code",
   "execution_count": null,
   "id": "32784649-de5d-4cfe-b658-ff786fb4d6d2",
   "metadata": {
    "deletable": false,
    "nbgrader": {
     "cell_type": "code",
     "checksum": "d8e993ab2b657d66f03f2aaf5732ca9d",
     "grade": true,
     "grade_id": "cell-08ec9913bcc1a172",
     "locked": false,
     "points": 2,
     "schema_version": 3,
     "solution": true,
     "task": false
    }
   },
   "outputs": [],
   "source": [
    "# Reclassify the slope values into 5 classes using Natural Breaks (clustering method) \n",
    "# and add 1 to get the class values range between 1-5 \n",
    "data[\"slope_nb\"] = \"ADD YOUR COMMAND HERE\"\n",
    "\n",
    "# Assign points for the Natural break values\n",
    "# Class number 2 gets highest points (5)\n",
    "# Class number 1 gets 4 points\n",
    "# Class number 3 gets 3 points\n",
    "# Class number 4 gets 2 points\n",
    "# Class number 5 gets 1 point (this has very steep slope so we do not want to give much weight to it)\n",
    "\n",
    "# You can use these \n",
    "bins = [1,2,3,4,5]\n",
    "new_values = [4,5,3,2,1]\n",
    "\n",
    "# Reclassify the slope_nb values\n",
    "data[\"slope_points\"] = \"ADD YOUR COMMAND HERE\"\n",
    "\n",
    "\n",
    "# REPLACE THE ERROR BELOW WITH YOUR OWN CODE\n",
    "raise NotImplementedError()"
   ]
  },
  {
   "cell_type": "markdown",
   "id": "789cb6f4-3c66-47e1-934a-c318c489161b",
   "metadata": {},
   "source": [
    "### Step 3.3 - Classify the aspect to custom classes using `reclassify`\n",
    "\n",
    "- **Classify the aspect** values by using a classifier called `.reclassify()` ([read docs](https://xarray-spatial.org/reference/_autosummary/xrspatial.classify.reclassify.html#xrspatial-classify-reclassify)). \n",
    "   - You can use the `bins` and `values` variables with the function that are provided for you below. The comment in the code cell below explains how the points are assigned to different classes.\n",
    "   - **Store the values in attribute `\"aspect_points\"`.**\n",
    "- **Plot the result** (i.e. `aspect_points`) using the `.plot()` -function. You can use the colormap `\"RdYlBu_r\"`. As a result you should get something like below:\n",
    "\n",
    "![Aspect points](img/aspect_points.png)\n",
    "\n",
    "*Example map showing the aspect points.*"
   ]
  },
  {
   "cell_type": "code",
   "execution_count": null,
   "id": "a164e6ae-6aa9-4db1-8c27-8befc8f1f924",
   "metadata": {
    "deletable": false,
    "nbgrader": {
     "cell_type": "code",
     "checksum": "fa512074628e2f9d8541952312e6676c",
     "grade": true,
     "grade_id": "cell-60eec4c69fe7c040",
     "locked": false,
     "points": 2,
     "schema_version": 3,
     "solution": true,
     "task": false
    }
   },
   "outputs": [],
   "source": [
    "# Reclassify aspect into 3 classes where:\n",
    "# - aspects pointing South (between 150-210 degrees) get biggest value 5\n",
    "# - aspects pointing East or West (between 90-150 and 210-270) get value 3\n",
    "# - aspects point North (below 90 degrees and above 270 degrees) get value 1\n",
    "\n",
    "# You can use these which define the custom classifier as described above\n",
    "bins = [90, 150, 210, 270, 360]\n",
    "new_values = [1, 3, 5, 3, 1]\n",
    "\n",
    "# Classify\n",
    "data[\"aspect_points\"] = \"ADD YOUR COMMAND HERE\"\n",
    "\n",
    "\n",
    "# REPLACE THE ERROR BELOW WITH YOUR OWN CODE\n",
    "raise NotImplementedError()"
   ]
  },
  {
   "cell_type": "markdown",
   "id": "d20ffb0c-969e-4880-b231-ff70e2c3ef18",
   "metadata": {},
   "source": [
    "## Problem 3 - Local map algebra (2 points)\n",
    "\n",
    "As a simple example of local function you now should add the reclassified layers together. One way could be just to add the values so that every cell had a value from 3 to 15, but this is rather simple and you can skip it. Instead, you should assign weights to the layers so that for example good aspect is more important than good elevation. One way is to have a weight factor for each layer.\n",
    "\n",
    "We apply a simple expression and weight our values with following formula:\n",
    "\n",
    "- `0.2*DEM + 0.6*Aspect + 0.2*Slope`\n",
    "\n",
    "Hence, we give most weight (60 %) to the aspect and equal amount of weight for the elevation and slope (20 % each). \n",
    "\n",
    "- **Calculate a suitability index** based on the formula provided above by utilizing the `elevation_points`, `slope_points` and `aspect_points`\n",
    "    - **Store the result in `\"suitability_index\"` attribute**\n",
    "- **Plot the result** (i.e. `suitability_index`) using the `.plot()` -function. You can use the colormap `\"RdYlBu_r\"`. As a result you should get something like below:\n",
    "\n",
    "![Suitability index](img/suitability_index.png)\n",
    "\n",
    "*Example map showing the suitability index. The higher the value, the better suited it is for building/buying a summer cottage based on our criteria.*"
   ]
  },
  {
   "cell_type": "code",
   "execution_count": null,
   "id": "386d985e-3513-4ec0-8a29-672f0db1dd2f",
   "metadata": {
    "deletable": false,
    "nbgrader": {
     "cell_type": "code",
     "checksum": "ed30779c74394858e07052a138c2c19a",
     "grade": true,
     "grade_id": "cell-8e594f6f92106c71",
     "locked": false,
     "points": 2,
     "schema_version": 3,
     "solution": true,
     "task": false
    }
   },
   "outputs": [],
   "source": [
    "# REPLACE THE ERROR BELOW WITH YOUR OWN CODE\n",
    "raise NotImplementedError()"
   ]
  },
  {
   "cell_type": "markdown",
   "id": "9934a504-0a0d-4fd8-a11e-8b011159fb72",
   "metadata": {},
   "source": [
    "## Problem 4 - Smooth the surface with focal map algebra (2 points)\n",
    "\n",
    "In contrary to local Map Algebra which operates with single location and several layers at a time (i.e. what we did in Problem 3), focal Map Algebra concentrates on cell neighborhoods on one layer. Next, we will soften the results from the previous analysis by a focal function to get a more general view on where the suitable places are located in. We will define a circular neighborhood/kernel and smooth the result using mean. Finally, we can compare the results with the original results from Problem 3.\n",
    "\n",
    "- Use the `kernel` (circular) provided for you below (here with window size 15x15) and apply it to `.focal_stats()` function ([read docs](https://xarray-spatial.org/reference/_autosummary/xrspatial.focal.focal_stats.html#xrspatial.focal.focal_stats)) that is available in the `xarray spatial` -library:\n",
    "  - Use the `\"suitability_index\"` as the input data, the predefined kernel, and use `\"mean\"` as the statistics function in the `stats_funcs` parameter. Notice that the value provided for `stats_funcs` should be a list (including the text \"mean\") --> Check the docs from the link above.\n",
    "  - **Store the result in `\"smoothed_suitability_index\"` attribute**\n",
    "  \n",
    "- **Plot the result** (i.e. `smoothed_suitability_index`) using the `.plot()` -function. You can use the colormap `\"RdYlBu_r\"`. As a result you should get something like in below.\n",
    "  - Test changing the kernel size (with bigger/smaller values) \n",
    "  - **Question 4.1:** How does changing the kernel size influence your results? (Add your answer to \"Answers\" section below)\n",
    "\n",
    "![Smoothed suitability index](img/smoothed_suitability_index.png)\n",
    "\n",
    "*Example map showing the smoothed suitability index. The higher the value, the better suited it is for building/buying a summer cottage based on our criteria.*"
   ]
  },
  {
   "cell_type": "code",
   "execution_count": null,
   "id": "70736ea9-c7b2-45ce-9719-3c9d7670f0ea",
   "metadata": {
    "deletable": false,
    "nbgrader": {
     "cell_type": "code",
     "checksum": "0fef7acbdd8fa36f094ac58609a01b27",
     "grade": true,
     "grade_id": "cell-33ac0ef23036557f",
     "locked": false,
     "points": 2,
     "schema_version": 3,
     "solution": true,
     "task": false
    }
   },
   "outputs": [],
   "source": [
    "from xrspatial.convolution import circle_kernel\n",
    "\n",
    "# Kernel size\n",
    "k = 15\n",
    "\n",
    "# Generate a kernel (basically produces a boolean matrix full with numbers 1 and 0)\n",
    "kernel = circle_kernel(1, 1, k)\n",
    "\n",
    "# Smoothen the surface\n",
    "data[\"smoothed_suitability_index\"] = \"ADD YOUR COMMAND HERE\"\n",
    "\n",
    "\n",
    "# REPLACE THE ERROR BELOW WITH YOUR OWN CODE\n",
    "raise NotImplementedError()"
   ]
  },
  {
   "cell_type": "markdown",
   "id": "c19173f9-d17b-43c6-b27e-b00abb1fd391",
   "metadata": {},
   "source": [
    "### Questions\n",
    "\n",
    "*Answering these questions gives you 0.5 points allocated to problem 4.1*.\n",
    "\n",
    "- **Question 4.1:** How does changing the kernel size influence your results? Justify your answer. "
   ]
  },
  {
   "cell_type": "markdown",
   "id": "75323091-5680-4b7e-a3a9-b7e81918fd97",
   "metadata": {},
   "source": [
    "### Answers\n",
    "\n",
    "Answer to the questions by adding text after the `Answer` bullet points below:"
   ]
  },
  {
   "cell_type": "markdown",
   "id": "6f8ade54-73a5-4ecb-8e3b-393e039b0fef",
   "metadata": {},
   "source": [
    "(hint: double-click this cell to activate editing)\n",
    "\n",
    "- **Answer for Q4.1**:"
   ]
  },
  {
   "cell_type": "markdown",
   "id": "7d2bd439-d89b-4161-9517-dad0d4db3a0c",
   "metadata": {},
   "source": [
    "## Problem 5 - How long did it take? Optional feedback (1 point)\n",
    "\n",
    "To help developing the exercises, and understanding the time that it took for you to finish the Exercise, please provide an estimate of how many hours you spent for doing this exercise?\n",
    "\n",
    " - I spent approximately this many hours: **X hours**\n",
    " \n",
    "In addition, if you would like to give any feedback about the exercise (optional), please provide it below:\n",
    "\n",
    " - My feedback:"
   ]
  }
 ],
 "metadata": {
  "kernelspec": {
   "display_name": "Python 3 (ipykernel)",
   "language": "python",
   "name": "python3"
  },
  "language_info": {
   "codemirror_mode": {
    "name": "ipython",
    "version": 3
   },
   "file_extension": ".py",
   "mimetype": "text/x-python",
   "name": "python",
   "nbconvert_exporter": "python",
   "pygments_lexer": "ipython3",
   "version": "3.10.13"
  }
 },
 "nbformat": 4,
 "nbformat_minor": 5
}
